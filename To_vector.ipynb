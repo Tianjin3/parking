{
  "nbformat": 4,
  "nbformat_minor": 0,
  "metadata": {
    "colab": {
      "name": "To_vector.ipynb",
      "version": "0.3.2",
      "provenance": [],
      "include_colab_link": true
    },
    "kernelspec": {
      "name": "python3",
      "display_name": "Python 3"
    }
  },
  "cells": [
    {
      "cell_type": "markdown",
      "metadata": {
        "id": "view-in-github",
        "colab_type": "text"
      },
      "source": [
        "<a href=\"https://colab.research.google.com/github/Tianjin3/parking/blob/patch-1/To_vector.ipynb\" target=\"_parent\"><img src=\"https://colab.research.google.com/assets/colab-badge.svg\" alt=\"Open In Colab\"/></a>"
      ]
    },
    {
      "metadata": {
        "id": "-9NOGMBg0FEA",
        "colab_type": "code",
        "outputId": "a1ad9b91-2294-4e13-d94b-4fd40ef2892d",
        "colab": {
          "base_uri": "https://localhost:8080/",
          "height": 122
        }
      },
      "cell_type": "code",
      "source": [
        "from google.colab import drive\n",
        "drive.mount('/content/a')\n",
        "\n"
      ],
      "execution_count": 0,
      "outputs": [
        {
          "output_type": "stream",
          "text": [
            "Go to this URL in a browser: https://accounts.google.com/o/oauth2/auth?client_id=947318989803-6bn6qk8qdgf4n4g3pfee6491hc0brc4i.apps.googleusercontent.com&redirect_uri=urn%3Aietf%3Awg%3Aoauth%3A2.0%3Aoob&scope=email%20https%3A%2F%2Fwww.googleapis.com%2Fauth%2Fdocs.test%20https%3A%2F%2Fwww.googleapis.com%2Fauth%2Fdrive%20https%3A%2F%2Fwww.googleapis.com%2Fauth%2Fdrive.photos.readonly%20https%3A%2F%2Fwww.googleapis.com%2Fauth%2Fpeopleapi.readonly&response_type=code\n",
            "\n",
            "Enter your authorization code:\n",
            "··········\n",
            "Mounted at /content/a\n"
          ],
          "name": "stdout"
        }
      ]
    },
    {
      "metadata": {
        "id": "cuG0Py9Y2k45",
        "colab_type": "code",
        "colab": {}
      },
      "cell_type": "code",
      "source": [
        "import pandas as pd\n",
        "import numpy as np\n",
        "from datetime import datetime\n",
        "\n",
        "\n",
        "dataset = pd.read_csv('a/My Drive/Melbourne_Parking/paper&dataset/Parking_Nov.csv', usecols=[1,2])\n",
        "dt = pd.read_csv('a/My Drive/Melbourne_Parking/paper&dataset/Parking_Nov.csv', usecols=[0])\n",
        "device=dt.DeviceId.unique()\n",
        "devicenum=np.array(device)\n",
        "total=[]\n",
        "\n",
        "\n",
        "\n",
        "dataset['DepartureTime'] = pd.to_datetime(dataset['DepartureTime'], dayfirst=True)\n",
        "dataset['ArrivalTime'] = pd.to_datetime(dataset['ArrivalTime'], dayfirst=True)\n",
        "\n",
        "\n",
        "for s in device:\n",
        "    df = dataset.loc[dt['DeviceId'] == s]\n",
        "    vector = []\n",
        "    day = []\n",
        "    x = []\n",
        "    for d in range(1, 30):\n",
        "        for h in range(0, 24):\n",
        "            for min in range(0, 60, 5):\n",
        "              sample_time = datetime(2011, 12, d, h, min, 0)\n",
        "              late_df = df[df['DepartureTime'] >= sample_time]\n",
        "              early_df = late_df[late_df['ArrivalTime'] <= sample_time]\n",
        "              vector.append(early_df.shape[0])\n",
        "    for j in range(0, 29):\n",
        "        caps = vector[j * 24 * 12:(24 * 12 * (j + 1))]\n",
        "        day.append(caps)\n",
        "    for i in range(0, 12 * 24):\n",
        "      all=0\n",
        "      for k in range(0,29):\n",
        "        all=all+day[k][i] \n",
        "        x.append(float(all) / 29)\n",
        "    total.append(x)\n",
        "\n",
        "    \n",
        "    \n",
        "    \n",
        "X=np.array(total)\n",
        "v = pd.DataFrame(X)\n",
        "v.to_csv(\"vector.csv\")\n",
        "\n",
        "\n"
      ],
      "execution_count": 0,
      "outputs": []
    },
    {
      "metadata": {
        "id": "YcsdAbAa0vs8",
        "colab_type": "code",
        "colab": {}
      },
      "cell_type": "code",
      "source": [
        ""
      ],
      "execution_count": 0,
      "outputs": []
    }
  ]
}