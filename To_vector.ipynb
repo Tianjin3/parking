{
  "nbformat": 4,
  "nbformat_minor": 0,
  "metadata": {
    "colab": {
      "name": "To_vector.ipynb",
      "version": "0.3.2",
      "provenance": [],
      "include_colab_link": true
    },
    "kernelspec": {
      "name": "python3",
      "display_name": "Python 3"
    }
  },
  "cells": [
    {
      "cell_type": "markdown",
      "metadata": {
        "id": "view-in-github",
        "colab_type": "text"
      },
      "source": [
        "<a href=\"https://colab.research.google.com/github/Tianjin3/parking/blob/master/To_vector.ipynb\" target=\"_parent\"><img src=\"https://colab.research.google.com/assets/colab-badge.svg\" alt=\"Open In Colab\"/></a>"
      ]
    },
    {
      "metadata": {
        "id": "-9NOGMBg0FEA",
        "colab_type": "code",
        "outputId": "c4ea8c90-2dbe-48e9-9760-15b4b20c3103",
        "colab": {
          "base_uri": "https://localhost:8080/",
          "height": 122
        }
      },
      "cell_type": "code",
      "source": [
        "from google.colab import drive\n",
        "drive.mount('/content/a')\n"
      ],
      "execution_count": 0,
      "outputs": [
        {
          "output_type": "stream",
          "text": [
            "Go to this URL in a browser: https://accounts.google.com/o/oauth2/auth?client_id=947318989803-6bn6qk8qdgf4n4g3pfee6491hc0brc4i.apps.googleusercontent.com&redirect_uri=urn%3Aietf%3Awg%3Aoauth%3A2.0%3Aoob&scope=email%20https%3A%2F%2Fwww.googleapis.com%2Fauth%2Fdocs.test%20https%3A%2F%2Fwww.googleapis.com%2Fauth%2Fdrive%20https%3A%2F%2Fwww.googleapis.com%2Fauth%2Fdrive.photos.readonly%20https%3A%2F%2Fwww.googleapis.com%2Fauth%2Fpeopleapi.readonly&response_type=code\n",
            "\n",
            "Enter your authorization code:\n",
            "··········\n",
            "Mounted at /content/a\n"
          ],
          "name": "stdout"
        }
      ]
    },
    {
      "metadata": {
        "id": "cuG0Py9Y2k45",
        "colab_type": "code",
        "colab": {}
      },
      "cell_type": "code",
      "source": [
        "import pandas as pd\n",
        "import numpy as np\n",
        "from datetime import datetime\n",
        "\n",
        "\n",
        "dataset = pd.read_csv('a/My Drive/Melbourne_Parking/paper&dataset/Parking_Nov.csv',usecols=[0,1,2])\n",
        "dataset['DepartureTime'] = pd.to_datetime(dataset['DepartureTime'])\n",
        "dataset['ArrivalTime'] = pd.to_datetime(dataset['ArrivalTime'])\n",
        "\n",
        "\n",
        "\n"
      ],
      "execution_count": 0,
      "outputs": []
    },
    {
      "metadata": {
        "id": "YcsdAbAa0vs8",
        "colab_type": "code",
        "colab": {}
      },
      "cell_type": "code",
      "source": [
        "import time\n",
        "start=time.time()\n",
        "for s in device:\n",
        "    df = dataset.loc[dataset['DeviceId'] == s]\n",
        "#     print(df)\n",
        "    vector = []\n",
        "    for d in range(1, 30):\n",
        "        for h in range(0, 24):\n",
        "            for min in range(0, 60, 5):\n",
        "              sample_time = datetime(2011, 11, d, h, min, 0)\n",
        "              d2=None\n",
        "              d1=d\n",
        "              if d!=3:\n",
        "                d2=d+1\n",
        "              day_df1 = df[df['DepartureTime'].dt.day==d1]\n",
        "              late_df1 = day_df1[day_df1['DepartureTime'] >= sample_time]\n",
        "              early_df1 = late_df1[late_df1['ArrivalTime'] < sample_time]\n",
        "              \n",
        "              if d2:\n",
        "                day_df2 = df[df['DepartureTime'].dt.day==d2]\n",
        "                #print(day_df2.head())\n",
        "                late_df2 = day_df2[day_df2['DepartureTime'] >= sample_time]\n",
        "                early_df2 = late_df2[late_df2['ArrivalTime'] < sample_time]            \n",
        "                vector.append(early_df1.shape[0]+early_df2.shape[0])\n",
        "\n",
        "              else:\n",
        "                vector.append(early_df1.shape[0])\n",
        "    print(vector)\n",
        "\n",
        "\"\"\"    print('===%f mins==='%((time.time()-start)/60))\n",
        "    #print(time.time()-start)\n",
        "    print(vector)\"\"\"\n",
        "              "
      ],
      "execution_count": 0,
      "outputs": []
    },
    {
      "metadata": {
        "id": "GSoByBWD76a6",
        "colab_type": "code",
        "colab": {}
      },
      "cell_type": "code",
      "source": [
        "vector=np.asarray(vector)              \n",
        "vector.reshape(30,12*24)\n",
        "total=vector[0]\n",
        "for i in range(1:30):\n",
        "  total=total+vector[i]\n",
        "total=total/30\n",
        "\n"
      ],
      "execution_count": 0,
      "outputs": []
    },
    {
      "metadata": {
        "id": "1jNC7COaWQLx",
        "colab_type": "code",
        "colab": {}
      },
      "cell_type": "code",
      "source": [
        "\n",
        "    \n",
        "X=np.array(total)\n",
        "v = pd.DataFrame(X)\n",
        "v.to_csv(\"vector.csv\")"
      ],
      "execution_count": 0,
      "outputs": []
    }
  ]
}